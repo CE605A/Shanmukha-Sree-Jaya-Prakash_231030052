{
  "nbformat": 4,
  "nbformat_minor": 0,
  "metadata": {
    "colab": {
      "provenance": [],
      "include_colab_link": true
    },
    "kernelspec": {
      "name": "python3",
      "display_name": "Python 3"
    },
    "language_info": {
      "name": "python"
    }
  },
  "cells": [
    {
      "cell_type": "markdown",
      "metadata": {
        "id": "view-in-github",
        "colab_type": "text"
      },
      "source": [
        "<a href=\"https://colab.research.google.com/github/CE605A/Shanmukha-Sree-Jaya-Prakash_231030052/blob/main/jp231030052.ipynb\" target=\"_parent\"><img src=\"https://colab.research.google.com/assets/colab-badge.svg\" alt=\"Open In Colab\"/></a>"
      ]
    },
    {
      "cell_type": "code",
      "execution_count": 3,
      "metadata": {
        "id": "j--wEfH6SJas",
        "colab": {
          "base_uri": "https://localhost:8080/"
        },
        "outputId": "0a956af2-4e6c-4817-a9c8-4ec688a421f4"
      },
      "outputs": [
        {
          "output_type": "stream",
          "name": "stdout",
          "text": [
            "values in row vector:\n",
            " [1 2 3]\n",
            "values in column vector:\n",
            " [[4]\n",
            " [5]\n",
            " [6]]\n"
          ]
        }
      ],
      "source": [
        "#1\n",
        "#importing required library\n",
        "import numpy as np\n",
        "#entering the values into the row vector and column vector manually\n",
        "row=np.array([1, 2, 3])\n",
        "column=np.array([[4],\n",
        "            [5],\n",
        "            [6]])\n",
        "print(\"values in row vector:\\n\",row)\n",
        "print(\"values in column vector:\\n\",column)"
      ]
    },
    {
      "cell_type": "code",
      "source": [
        "#1\n",
        "#no of rows required in runtime\n",
        "row_input=int(input(\"number of rows:  \"))\n",
        "#empty list\n",
        "l=[]\n",
        "for x in range(row_input):\n",
        "#taking input from the user using input() method\n",
        "    v=input()\n",
        "#adding the values into the empty list\n",
        "    l.append(v)\n",
        "#printing the row matrix\n",
        "print(l)\n"
      ],
      "metadata": {
        "colab": {
          "base_uri": "https://localhost:8080/"
        },
        "id": "L4j_yOFcAUVA",
        "outputId": "9ab43de9-1ce7-4b81-ef94-d1cd2a42054d"
      },
      "execution_count": 4,
      "outputs": [
        {
          "output_type": "stream",
          "name": "stdout",
          "text": [
            "number of rows:  3\n",
            "1\n",
            "1\n",
            "1\n",
            "['1', '1', '1']\n"
          ]
        }
      ]
    },
    {
      "cell_type": "code",
      "source": [
        "#1\n",
        "#number of columns required in runtime\n",
        "column_input=int(input(\"number of columns: \"))\n",
        "#defining empty vector\n",
        "l= []\n",
        "for x in range(column_input):\n",
        "#taking input from the user using input() method\n",
        "    v=input()\n",
        "#adding the values into empty vector\n",
        "    l.append(v)\n",
        "#printing the each element in the column vector\n",
        "for e in l:\n",
        "    print(e)"
      ],
      "metadata": {
        "colab": {
          "base_uri": "https://localhost:8080/"
        },
        "id": "k_ywf1aEDetO",
        "outputId": "ca382817-ec63-40ee-ce50-d55396c602de"
      },
      "execution_count": 5,
      "outputs": [
        {
          "output_type": "stream",
          "name": "stdout",
          "text": [
            "number of columns: 3\n",
            "1\n",
            "2\n",
            "3\n",
            "1\n",
            "2\n",
            "3\n"
          ]
        }
      ]
    },
    {
      "cell_type": "code",
      "source": [
        "#2\n",
        "#IMPORTING THE REQUIRED LIBRARIES\n",
        "import numpy as np\n",
        "#input for number of rows\n",
        "row_value=int(input(\"enter number of rows:  \"))\n",
        "#input for number of columns\n",
        "column_value=int(input(\"enter number of columns:  \"))\n",
        "#empty list for required matrix\n",
        "y=[]\n",
        "#for loop for row values\n",
        "for x in range(row_value):\n",
        "#empty list to append the column values\n",
        "  c=[]\n",
        "#for loop for column values\n",
        "  for x in range(column_value):\n",
        "#input for the values in the matrix\n",
        "    v=input()\n",
        "#adding the values into the empty list\n",
        "    c.append(v)\n",
        "#adding all the columns into the empty list y\n",
        "  y.append(c)\n",
        "#changing the list into a matrix form\n",
        "a=np.matrix(y)\n",
        "print(a)"
      ],
      "metadata": {
        "colab": {
          "base_uri": "https://localhost:8080/"
        },
        "id": "KOdNTFl3B2_P",
        "outputId": "24763309-e515-49b8-8b3a-f358a3a24823"
      },
      "execution_count": 6,
      "outputs": [
        {
          "output_type": "stream",
          "name": "stdout",
          "text": [
            "enter number of rows:  3\n",
            "enter number of columns:  3\n",
            "1\n",
            "2\n",
            "2\n",
            "2\n",
            "2\n",
            "2\n",
            "2\n",
            "2\n",
            "2\n",
            "[['1' '2' '2']\n",
            " ['2' '2' '2']\n",
            " ['2' '2' '2']]\n"
          ]
        }
      ]
    },
    {
      "cell_type": "code",
      "source": [],
      "metadata": {
        "id": "Ihm6h4Y1FS7x"
      },
      "execution_count": null,
      "outputs": []
    },
    {
      "cell_type": "code",
      "source": [
        "#2\n",
        "#importing  the required library\n",
        "import numpy as np\n",
        "#entering the matrix values manually\n",
        "a=np.matrix('[1,2,3,4,5;2,4,6,7,9;8,9,5,7,7;2,6,9,0,4;3,7,2,8,1]')\n",
        "#printing matrix a\n",
        "print(a)\n",
        "#3\n",
        "#printing 3rd row from the matrix\n",
        "print(a[2])\n",
        "#4\n",
        "#printing 4th column from the matrix\n",
        "print(a[:,3])\n",
        "#5\n",
        "#sorting the matrix\n",
        "a.sort()\n",
        "print(a)"
      ],
      "metadata": {
        "colab": {
          "base_uri": "https://localhost:8080/"
        },
        "id": "FK0dQpiMFh6Q",
        "outputId": "f487ddeb-bac4-4348-ea87-0a299b687847"
      },
      "execution_count": 30,
      "outputs": [
        {
          "output_type": "stream",
          "name": "stdout",
          "text": [
            "[[1 2 3 4 5]\n",
            " [2 4 6 7 9]\n",
            " [8 9 5 7 7]\n",
            " [2 6 9 0 4]\n",
            " [3 7 2 8 1]]\n",
            "[[8 9 5 7 7]]\n",
            "[[4]\n",
            " [7]\n",
            " [7]\n",
            " [0]\n",
            " [8]]\n",
            "[[1 2 3 4 5]\n",
            " [2 4 6 7 9]\n",
            " [5 7 7 8 9]\n",
            " [0 2 4 6 9]\n",
            " [1 2 3 7 8]]\n"
          ]
        }
      ]
    },
    {
      "cell_type": "code",
      "source": [
        "#6\n",
        "#defining matrix A\n",
        "a= [\n",
        "    [1,2,3,4,5],\n",
        "    [2,4,6,7,9],\n",
        "    [8,9,5,7,7],\n",
        "    [2,6,9,0,4],\n",
        "    [3,7,2,8,1]\n",
        "]\n",
        "\n",
        "# Applying the for loop to modify the matrix A\n",
        "for i in range(5):\n",
        "    for j in range(5):\n",
        "#as mentioned if the element is greater than 2 it must be multiplied by 10\n",
        "        if a[i][j] > 2:\n",
        "            a[i][j] *= 10\n",
        "            a[i][j] =   str(a[i][j])\n",
        "print(\"Modified Matrix:\")\n",
        "b=a\n",
        "\"\"\"for row in matrix:\n",
        "    print(row)\"\"\"\n",
        "#printing the modified matrix\n",
        "print(b)"
      ],
      "metadata": {
        "colab": {
          "base_uri": "https://localhost:8080/"
        },
        "id": "x6Bmwyt3GmNO",
        "outputId": "ce529727-011b-43d4-fcbb-9be719a0d697"
      },
      "execution_count": 31,
      "outputs": [
        {
          "output_type": "stream",
          "name": "stdout",
          "text": [
            "Modified Matrix:\n",
            "[[1, 2, '30', '40', '50'], [2, '40', '60', '70', '90'], ['80', '90', '50', '70', '70'], [2, '60', '90', 0, '40'], ['30', '70', 2, '80', 1]]\n"
          ]
        }
      ]
    },
    {
      "cell_type": "code",
      "source": [
        "#7\n",
        "#defining matrix A\n",
        "a= [\n",
        "    [1,2,3,4,5],\n",
        "    [2,4,6,7,9],\n",
        "    [8,9,5,7,7],\n",
        "    [2,6,9,0,4],\n",
        "    [3,7,2,8,1]\n",
        "]\n",
        "#defining matrix B\n",
        "b=[\n",
        "    [1,2,30,40,50],\n",
        "    [2,40,60,70,90],\n",
        "    [80,90,50,70,70],\n",
        "    [2,60,90,0,40],\n",
        "    [30,70,2,80,1]]\n",
        "#defining a 5x5 matrix with all zero\n",
        "sum=[[0,0,0,0,0],\n",
        "     [0,0,0,0,0],\n",
        "     [0,0,0,0,0],\n",
        "     [0,0,0,0,0],\n",
        "     [0,0,0,0,0]]\n",
        "#applying for loop\n",
        "for i in range(len(a)):\n",
        "    for j in range(len(a[0])):\n",
        "#adding corresponding elements from both matrices and storing in the sum matrix\n",
        "        sum[i][j]=a[i][j]+b[i][j]\n",
        "#printing every element of the r matrix\n",
        "for r in sum:\n",
        "  print(r)"
      ],
      "metadata": {
        "colab": {
          "base_uri": "https://localhost:8080/"
        },
        "id": "hJUZdX0uGsMR",
        "outputId": "6c1ced5e-9b19-46bf-c992-aa0e87b31528"
      },
      "execution_count": 32,
      "outputs": [
        {
          "output_type": "stream",
          "name": "stdout",
          "text": [
            "[2, 4, 33, 44, 55]\n",
            "[4, 44, 66, 77, 99]\n",
            "[88, 99, 55, 77, 77]\n",
            "[4, 66, 99, 0, 44]\n",
            "[33, 77, 4, 88, 2]\n"
          ]
        }
      ]
    },
    {
      "cell_type": "code",
      "source": [
        "#8\n",
        "#defining matrix A\n",
        "a= [\n",
        "    [1,2,3,4,5],\n",
        "    [2,4,6,7,9],\n",
        "    [8,9,5,7,7],\n",
        "    [2,6,9,0,4],\n",
        "    [3,7,2,8,1]\n",
        "]\n",
        "#defining matrix B\n",
        "b=[\n",
        "    [1,2,30,40,50],\n",
        "    [2,40,60,70,90],\n",
        "    [80,90,50,70,70],\n",
        "    [2,60,90,0,40],\n",
        "    [30,70,2,80,1]]\n",
        "#defining a 5x5 matrix with all zero\n",
        "sub=[[0,0,0,0,0],\n",
        "     [0,0,0,0,0],\n",
        "     [0,0,0,0,0],\n",
        "     [0,0,0,0,0],\n",
        "     [0,0,0,0,0]]\n",
        "#applying for loop\n",
        "for i in range(len(a)):\n",
        "    for j in range(len(a[0])):\n",
        "#substarcting corresponding elements from both matrices and storing in the sub matrix\n",
        "        sub[i][j]=a[i][j]-b[i][j]\n",
        "#printing every element of the r matrix\n",
        "for r in sub:\n",
        "  print(r)"
      ],
      "metadata": {
        "colab": {
          "base_uri": "https://localhost:8080/"
        },
        "id": "kcYPlFS7Gv4l",
        "outputId": "d2d6cd8b-6f55-4631-b85a-30626d88dfbb"
      },
      "execution_count": 33,
      "outputs": [
        {
          "output_type": "stream",
          "name": "stdout",
          "text": [
            "[0, 0, -27, -36, -45]\n",
            "[0, -36, -54, -63, -81]\n",
            "[-72, -81, -45, -63, -63]\n",
            "[0, -54, -81, 0, -36]\n",
            "[-27, -63, 0, -72, 0]\n"
          ]
        }
      ]
    },
    {
      "cell_type": "code",
      "source": [
        "#9\n",
        "#defining matrix A\n",
        "a= [\n",
        "    [1,2,3,4,5],\n",
        "    [2,4,6,7,9],\n",
        "    [8,9,5,7,7],\n",
        "    [2,6,9,0,4],\n",
        "    [3,7,2,8,1]\n",
        "]\n",
        "#defining matrix B\n",
        "b=[\n",
        "    [1,2,30,40,50],\n",
        "    [2,40,60,70,90],\n",
        "    [80,90,50,70,70],\n",
        "    [2,60,90,0,40],\n",
        "    [30,70,2,80,1]]\n",
        "#defining a 5x5 matrix with all zero\n",
        "multi=[[0,0,0,0,0],\n",
        "       [0,0,0,0,0],\n",
        "       [0,0,0,0,0],\n",
        "       [0,0,0,0,0],\n",
        "       [0,0,0,0,0]]\n",
        "#applying for loop\n",
        "for i in range(len(a)):\n",
        "    for j in range(len(a[0])):\n",
        "#multiplying corresponding elements from both matrices and storing in the multi matrix\n",
        "        multi[i][j]=a[i][j]*b[i][j]\n",
        "#printing every element of the multi matrix\n",
        "for r in multi:\n",
        "  print(r)"
      ],
      "metadata": {
        "colab": {
          "base_uri": "https://localhost:8080/"
        },
        "id": "zIRaSaoeG4YR",
        "outputId": "bd665d33-0019-4c58-c1c0-a0542d584811"
      },
      "execution_count": 34,
      "outputs": [
        {
          "output_type": "stream",
          "name": "stdout",
          "text": [
            "[1, 4, 90, 160, 250]\n",
            "[4, 160, 360, 490, 810]\n",
            "[640, 810, 250, 490, 490]\n",
            "[4, 360, 810, 0, 160]\n",
            "[90, 490, 4, 640, 1]\n"
          ]
        }
      ]
    },
    {
      "cell_type": "code",
      "source": [
        "#9\n",
        "#defining matrix A\n",
        "a= [\n",
        "    [1,2,3,4,5],\n",
        "    [2,4,6,7,9],\n",
        "    [8,9,5,7,7],\n",
        "    [2,6,9,0,4],\n",
        "    [3,7,2,8,1]\n",
        "]\n",
        "#defining matrix B\n",
        "b=[\n",
        "    [1,2,30,40,50],\n",
        "    [2,40,60,70,90],\n",
        "    [80,90,50,70,70],\n",
        "    [2,60,90,0,40],\n",
        "    [30,70,2,80,1]]\n",
        "#defining a 5x5 matrix with all zero\n",
        "result=[[0,0,0,0,0],\n",
        "         [0,0,0,0,0],\n",
        "         [0,0,0,0,0],\n",
        "         [0,0,0,0,0],\n",
        "         [0,0,0,0,0]]\n",
        "#applying for loop\n",
        "for i in range(len(a)):\n",
        "    for j in range(len(b[0])):\n",
        "        for k in range(len(b)):\n",
        "#performing matrix multiplication\n",
        "            result[i][j]+=a[i][k]*b[k][j]\n",
        "#printing every element from the result\n",
        "for row in result:\n",
        "    print(row)"
      ],
      "metadata": {
        "colab": {
          "base_uri": "https://localhost:8080/"
        },
        "id": "tf1BkACDG9il",
        "outputId": "06292fe9-1061-41ff-fc67-abc7f1c34ad8"
      },
      "execution_count": 35,
      "outputs": [
        {
          "output_type": "stream",
          "name": "stdout",
          "text": [
            "[403, 942, 670, 790, 605]\n",
            "[774, 1754, 1248, 1500, 1169]\n",
            "[650, 1736, 1674, 1860, 1847]\n",
            "[854, 1334, 878, 1450, 1274]\n",
            "[223, 1016, 1332, 830, 1241]\n"
          ]
        }
      ]
    },
    {
      "cell_type": "code",
      "source": [
        "#10\n",
        "#importing all the required libraries\n",
        "import numpy as np\n",
        "a = np.array([[1,2,3,4,5],\n",
        "              [2,4,6,7,9],\n",
        "              [8,9,5,7,7],\n",
        "              [2,6,9,0,4],\n",
        "              [3,7,2,8,1]])\n",
        "# Divide every element of the matrix by 18\n",
        "result = a / 18\n",
        "# Print the result\n",
        "print(result)"
      ],
      "metadata": {
        "colab": {
          "base_uri": "https://localhost:8080/"
        },
        "id": "Vj-CDaLdHC-h",
        "outputId": "941a36fe-2169-401f-f704-dcd0ea009bdb"
      },
      "execution_count": 36,
      "outputs": [
        {
          "output_type": "stream",
          "name": "stdout",
          "text": [
            "[[0.05555556 0.11111111 0.16666667 0.22222222 0.27777778]\n",
            " [0.11111111 0.22222222 0.33333333 0.38888889 0.5       ]\n",
            " [0.44444444 0.5        0.27777778 0.38888889 0.38888889]\n",
            " [0.11111111 0.33333333 0.5        0.         0.22222222]\n",
            " [0.16666667 0.38888889 0.11111111 0.44444444 0.05555556]]\n"
          ]
        }
      ]
    },
    {
      "cell_type": "code",
      "source": [
        "#11\n",
        "#importing the required library\n",
        "#using linalg means linear algebra\n",
        "import numpy as np\n",
        "#calculating rank of the matrix\n",
        "np.linalg.matrix_rank(a)\n",
        "#calculating inverse of the matrix\n",
        "np.linalg.inv(a)\n",
        "#calculating the condition number\n",
        "np.linalg.cond(a)\n",
        "#calculating the single value decomposition\n",
        "np.linalg.svd(a)\n",
        "#calculating the norm\n",
        "np.linalg.norm(a)"
      ],
      "metadata": {
        "colab": {
          "base_uri": "https://localhost:8080/"
        },
        "id": "hVknvVzvHE_3",
        "outputId": "9fd7a1ac-0c27-4f74-fbac-e904febee942"
      },
      "execution_count": 37,
      "outputs": [
        {
          "output_type": "execute_result",
          "data": {
            "text/plain": [
              "27.80287754891569"
            ]
          },
          "metadata": {},
          "execution_count": 37
        }
      ]
    },
    {
      "cell_type": "code",
      "source": [
        "#11\n",
        "#importing the required library\n",
        "#using linalg means linear algebra\n",
        "import numpy as np\n",
        "#calculating rank of the matrix\n",
        "np.linalg.matrix_rank(b)\n",
        "#calculating inverse of the matrix\n",
        "np.linalg.inv(b)\n",
        "#calculating the condition number\n",
        "np.linalg.cond(b)\n",
        "#calculating the single value decomposition\n",
        "np.linalg.svd(b)\n",
        "#calculating the norm\n",
        "np.linalg.norm(b)"
      ],
      "metadata": {
        "colab": {
          "base_uri": "https://localhost:8080/"
        },
        "id": "8sKjHtkPHK2-",
        "outputId": "fb2b38f2-20b6-491f-9574-aa9e4de9c47c"
      },
      "execution_count": 38,
      "outputs": [
        {
          "output_type": "execute_result",
          "data": {
            "text/plain": [
              "274.8053856823043"
            ]
          },
          "metadata": {},
          "execution_count": 38
        }
      ]
    },
    {
      "cell_type": "code",
      "source": [
        "#12\n",
        "#importing the required library\n",
        "import numpy as np\n",
        "# Define the column vector\n",
        "a=np.array([\n",
        "    [5],\n",
        "    [9],\n",
        "    [11]\n",
        "])\n",
        "#calculating the norm\n",
        "norm = np.linalg.norm(a)\n",
        "print(\" norm of the column vector:\",norm)"
      ],
      "metadata": {
        "colab": {
          "base_uri": "https://localhost:8080/"
        },
        "id": "o1aSsGaMHNRW",
        "outputId": "785290a9-3753-4840-94f7-2780baf9bcb6"
      },
      "execution_count": 39,
      "outputs": [
        {
          "output_type": "stream",
          "name": "stdout",
          "text": [
            " norm of the column vector: 15.066519173319364\n"
          ]
        }
      ]
    },
    {
      "cell_type": "code",
      "source": [
        "#12\n",
        "#importing the required library\n",
        "import numpy as np\n",
        "# Define the column vectors\n",
        "a=np.array([\n",
        "    [5],\n",
        "    [9],\n",
        "    [11]\n",
        "])\n",
        "b=np.array([\n",
        "    [6],\n",
        "    [9],\n",
        "    [12]\n",
        "])\n",
        "#getting inner product of the vector\n",
        "i_product = np.dot(a.T,b)\n",
        "print(\"inner product:\",i_product)"
      ],
      "metadata": {
        "colab": {
          "base_uri": "https://localhost:8080/"
        },
        "id": "rJaZOCw_HXPn",
        "outputId": "0c2c1930-6dbc-4d90-e9e5-e9c9e51aa220"
      },
      "execution_count": 40,
      "outputs": [
        {
          "output_type": "stream",
          "name": "stdout",
          "text": [
            "inner product: [[243]]\n"
          ]
        }
      ]
    },
    {
      "cell_type": "code",
      "source": [
        "#12\n",
        "#importing the required libraries\n",
        "import numpy as np\n",
        "# Define the column vectors\n",
        "a=np.array([\n",
        "    [5],\n",
        "    [9],\n",
        "    [11]\n",
        "])\n",
        "b=np.array([\n",
        "    [6],\n",
        "    [9],\n",
        "    [12]\n",
        "])\n",
        "#getting outer product of the vectors\n",
        "o_product = np.outer(a,b.T)\n",
        "print(\"outer product:\\n\",o_product)"
      ],
      "metadata": {
        "colab": {
          "base_uri": "https://localhost:8080/"
        },
        "id": "B7RWqDlsHcMA",
        "outputId": "4f55f8d0-2071-48f3-f905-5a943180aa7b"
      },
      "execution_count": 42,
      "outputs": [
        {
          "output_type": "stream",
          "name": "stdout",
          "text": [
            "outer product:\n",
            " [[ 30  45  60]\n",
            " [ 54  81 108]\n",
            " [ 66  99 132]]\n"
          ]
        }
      ]
    },
    {
      "cell_type": "code",
      "source": [
        "#13\n",
        "#importing the required library\n",
        "import math\n",
        "#defining the function derivative\n",
        "def derivative(f,a,method='central',h=0.01):\n",
        "#applying if loop and giving the conditions\n",
        "    if method == 'forward':\n",
        "        return (f(a+h)-f(a))/h\n",
        "#applying the elif conditions\n",
        "    elif method == 'backward':\n",
        "        return (f(a)-f(a-h))/h\n",
        "#applying the elif conditions\n",
        "    elif method == 'central':\n",
        "        return (f(a+h)-f(a-h))/(2*h)\n",
        "#applying the else and giving conditions\n",
        "    else:\n",
        "        raise ValueError(\"Invalid method. Use 'forward', 'backward', or 'central'.\")\n",
        "# Test the function on exp(x) and cos(x) at x = 0.5\n",
        "x = 0.5\n",
        "exp = derivative(math.exp, x)\n",
        "cos = derivative(math.cos, x)\n",
        "\n",
        "print(\"Derivative of exp(x)\", x, \":\",exp)\n",
        "print(\"Derivative of cos(x)\", x, \":\",cos)"
      ],
      "metadata": {
        "colab": {
          "base_uri": "https://localhost:8080/"
        },
        "id": "dWbSRr2QHg_p",
        "outputId": "297774ba-fe97-4242-cbef-3502685b5865"
      },
      "execution_count": 43,
      "outputs": [
        {
          "output_type": "stream",
          "name": "stdout",
          "text": [
            "Derivative of exp(x) 0.5 : 1.648748749525375\n",
            "Derivative of cos(x) 0.5 : -0.4794175482185081\n"
          ]
        }
      ]
    },
    {
      "cell_type": "code",
      "source": [
        "#14\n",
        "#importing the required library\n",
        "import pandas as pdp\n",
        "#reading the csv file and copying the path of the required csv file\n",
        "df=pd.read_csv(\"/surface_data.csv\")\n",
        "#printing the data frame\n",
        "print(df)"
      ],
      "metadata": {
        "colab": {
          "base_uri": "https://localhost:8080/"
        },
        "id": "HojfW-N5J73w",
        "outputId": "7f3e5bb8-f619-40a4-c9d3-858307704176"
      },
      "execution_count": 57,
      "outputs": [
        {
          "output_type": "stream",
          "name": "stdout",
          "text": [
            "         obstime     tempr        ap      ws       wd       rh\n",
            "0     1985-02-26  -10.0000  983.0250  16.125   11.750   64.875\n",
            "1     1985-02-27  -12.6250  981.5750   5.875   29.250   58.625\n",
            "2     1985-02-28  -17.1875  983.7750   3.000   99.000   55.125\n",
            "3     1985-03-01 -507.6250  986.3375  19.125 -493.625 -999.000\n",
            "4     1985-03-02 -257.3125  497.7500  33.875 -243.000 -224.125\n",
            "...          ...       ...       ...     ...      ...      ...\n",
            "9380  2010-12-27   -0.1125  996.9375   5.625   15.750 -999.000\n",
            "9381  2010-12-28   -0.7000  994.6750  19.250    9.750 -999.000\n",
            "9382  2010-12-29    0.6375  994.2875  22.250   10.250 -999.000\n",
            "9383  2010-12-30    1.4375  992.5125  14.500   10.250 -999.000\n",
            "9384  2010-12-31    0.9500  989.2000  16.500   11.500 -999.000\n",
            "\n",
            "[9385 rows x 6 columns]\n"
          ]
        }
      ]
    }
  ]
}