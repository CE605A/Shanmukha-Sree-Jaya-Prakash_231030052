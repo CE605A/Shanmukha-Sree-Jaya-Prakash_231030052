{
  "nbformat": 4,
  "nbformat_minor": 0,
  "metadata": {
    "colab": {
      "provenance": [],
      "include_colab_link": true
    },
    "kernelspec": {
      "name": "python3",
      "display_name": "Python 3"
    },
    "language_info": {
      "name": "python"
    }
  },
  "cells": [
    {
      "cell_type": "markdown",
      "metadata": {
        "id": "view-in-github",
        "colab_type": "text"
      },
      "source": [
        "<a href=\"https://colab.research.google.com/github/CE605A/Shanmukha-Sree-Jaya-Prakash_231030052/blob/main/jp231030052.ipynb\" target=\"_parent\"><img src=\"https://colab.research.google.com/assets/colab-badge.svg\" alt=\"Open In Colab\"/></a>"
      ]
    },
    {
      "cell_type": "code",
      "execution_count": 3,
      "metadata": {
        "id": "j--wEfH6SJas",
        "colab": {
          "base_uri": "https://localhost:8080/"
        },
        "outputId": "0a956af2-4e6c-4817-a9c8-4ec688a421f4"
      },
      "outputs": [
        {
          "output_type": "stream",
          "name": "stdout",
          "text": [
            "values in row vector:\n",
            " [1 2 3]\n",
            "values in column vector:\n",
            " [[4]\n",
            " [5]\n",
            " [6]]\n"
          ]
        }
      ],
      "source": [
        "#1\n",
        "#importing required library\n",
        "import numpy as np\n",
        "#entering the values into the row vector and column vector manually\n",
        "row=np.array([1, 2, 3])\n",
        "column=np.array([[4],\n",
        "            [5],\n",
        "            [6]])\n",
        "print(\"values in row vector:\\n\",row)\n",
        "print(\"values in column vector:\\n\",column)"
      ]
    },
    {
      "cell_type": "code",
      "source": [
        "#1\n",
        "#no of rows required in runtime\n",
        "row_input=int(input(\"number of rows:  \"))\n",
        "#empty list\n",
        "l=[]\n",
        "for x in range(row_input):\n",
        "#taking input from the user using input() method\n",
        "    v=input()\n",
        "#adding the values into the empty list\n",
        "    l.append(v)\n",
        "#printing the row matrix\n",
        "print(l)\n"
      ],
      "metadata": {
        "colab": {
          "base_uri": "https://localhost:8080/"
        },
        "id": "L4j_yOFcAUVA",
        "outputId": "9ab43de9-1ce7-4b81-ef94-d1cd2a42054d"
      },
      "execution_count": 4,
      "outputs": [
        {
          "output_type": "stream",
          "name": "stdout",
          "text": [
            "number of rows:  3\n",
            "1\n",
            "1\n",
            "1\n",
            "['1', '1', '1']\n"
          ]
        }
      ]
    },
    {
      "cell_type": "code",
      "source": [
        "#1\n",
        "#number of columns required in runtime\n",
        "column_input=int(input(\"number of columns: \"))\n",
        "#defining empty vector\n",
        "l= []\n",
        "for x in range(column_input):\n",
        "#taking input from the user using input() method\n",
        "    v=input()\n",
        "#adding the values into empty vector\n",
        "    l.append(v)\n",
        "#printing the each element in the column vector\n",
        "for e in l:\n",
        "    print(e)"
      ],
      "metadata": {
        "colab": {
          "base_uri": "https://localhost:8080/"
        },
        "id": "k_ywf1aEDetO",
        "outputId": "ca382817-ec63-40ee-ce50-d55396c602de"
      },
      "execution_count": 5,
      "outputs": [
        {
          "output_type": "stream",
          "name": "stdout",
          "text": [
            "number of columns: 3\n",
            "1\n",
            "2\n",
            "3\n",
            "1\n",
            "2\n",
            "3\n"
          ]
        }
      ]
    },
    {
      "cell_type": "code",
      "source": [
        "#2\n",
        "#IMPORTING THE REQUIRED LIBRARIES\n",
        "import numpy as np\n",
        "#input for number of rows\n",
        "row_value=int(input(\"enter number of rows:  \"))\n",
        "#input for number of columns\n",
        "column_value=int(input(\"enter number of columns:  \"))\n",
        "#empty list for required matrix\n",
        "y=[]\n",
        "#loop for row values\n",
        "for x in range(row_value):\n",
        "#empty list to append the column values\n",
        "  c=[]\n",
        "#loop for column values\n",
        "  for x in range(column_value):\n",
        "#input for the values in the matrix\n",
        "    v=input()\n",
        "#adding the values into the empty list\n",
        "    c.append(v)\n",
        "#adding all the columns into the empty list y\n",
        "  y.append(c)\n",
        "#changing the list into a matrix form\n",
        "a=np.matrix(y)\n",
        "print(a)"
      ],
      "metadata": {
        "colab": {
          "base_uri": "https://localhost:8080/"
        },
        "id": "KOdNTFl3B2_P",
        "outputId": "24763309-e515-49b8-8b3a-f358a3a24823"
      },
      "execution_count": 6,
      "outputs": [
        {
          "output_type": "stream",
          "name": "stdout",
          "text": [
            "enter number of rows:  3\n",
            "enter number of columns:  3\n",
            "1\n",
            "2\n",
            "2\n",
            "2\n",
            "2\n",
            "2\n",
            "2\n",
            "2\n",
            "2\n",
            "[['1' '2' '2']\n",
            " ['2' '2' '2']\n",
            " ['2' '2' '2']]\n"
          ]
        }
      ]
    },
    {
      "cell_type": "code",
      "source": [],
      "metadata": {
        "id": "Ihm6h4Y1FS7x"
      },
      "execution_count": null,
      "outputs": []
    },
    {
      "cell_type": "code",
      "source": [
        "#2\n",
        "#importing  the required library\n",
        "import numpy as np\n",
        "#entering the matrix values manually\n",
        "mat=np.matrix('[1,2,3,4,5;2,4,6,7,9;8,9,5,7,7;2,6,9,0,4;3,7,2,8,1]')\n",
        "#printing matrix a\n",
        "print(mat)\n",
        "#3\n",
        "#printing 3rd row from the matrix\n",
        "print(mat[2])\n",
        "#4\n",
        "#printing 4th column from the matrix\n",
        "print(mat[:,3])\n",
        "#5\n",
        "#sorting the matrix\n",
        "mat.sort()\n",
        "print(mat)"
      ],
      "metadata": {
        "colab": {
          "base_uri": "https://localhost:8080/"
        },
        "id": "FK0dQpiMFh6Q",
        "outputId": "9c81a711-6fae-4192-c9d5-4be19ef98ac6"
      },
      "execution_count": 1,
      "outputs": [
        {
          "output_type": "stream",
          "name": "stdout",
          "text": [
            "[[1 2 3 4 5]\n",
            " [2 4 6 7 9]\n",
            " [8 9 5 7 7]\n",
            " [2 6 9 0 4]\n",
            " [3 7 2 8 1]]\n",
            "[[8 9 5 7 7]]\n",
            "[[4]\n",
            " [7]\n",
            " [7]\n",
            " [0]\n",
            " [8]]\n",
            "[[1 2 3 4 5]\n",
            " [2 4 6 7 9]\n",
            " [5 7 7 8 9]\n",
            " [0 2 4 6 9]\n",
            " [1 2 3 7 8]]\n"
          ]
        }
      ]
    },
    {
      "cell_type": "code",
      "source": [
        "#6\n",
        "#defining matrix A\n",
        "a= [\n",
        "    [9,8,7,6,5],\n",
        "    [2,0,5,1,7],\n",
        "    [1,7,9,4,3],\n",
        "    [9,4,6,2,1],\n",
        "    [7,3,5,9,1]\n",
        "]\n",
        "\n",
        "# Applying the for loop to modify the matrix A\n",
        "for i in range(5):\n",
        "    for j in range(5):\n",
        "#as mentioned if the element is greater than 2 it must be multiplied by 10\n",
        "        if a[i][j] > 2:\n",
        "            a[i][j] *= 10\n",
        "            a[i][j] =   str(a[i][j])\n",
        "print(\"Modified Matrix:\")\n",
        "b=a\n",
        "\"\"\"for row in matrix:\n",
        "    print(row)\"\"\"\n",
        "#printing the modified matrix\n",
        "print(b)"
      ],
      "metadata": {
        "colab": {
          "base_uri": "https://localhost:8080/"
        },
        "id": "x6Bmwyt3GmNO",
        "outputId": "6ec2144e-a78e-433c-9b67-21a3b48ad4d0"
      },
      "execution_count": 3,
      "outputs": [
        {
          "output_type": "stream",
          "name": "stdout",
          "text": [
            "Modified Matrix:\n",
            "[['90', '80', '70', '60', '50'], [2, 0, '50', 1, '70'], [1, '70', '90', '40', '30'], ['90', '40', '60', 2, 1], ['70', '30', '50', '90', 1]]\n"
          ]
        }
      ]
    },
    {
      "cell_type": "code",
      "source": [
        "#7\n",
        "#defining matrix A\n",
        "a= [\n",
        "    [9,8,7,6,5],\n",
        "    [2,0,5,1,7],\n",
        "    [1,7,9,4,3],\n",
        "    [9,4,6,2,1],\n",
        "    [7,3,5,9,1]\n",
        "]\n",
        "#defining matrix B\n",
        "b=[\n",
        "    [90,80,70,60,50],\n",
        "    [2,0,50,1,70],\n",
        "    [1,70,90,40,30],\n",
        "    [90,40,60,2,1],\n",
        "    [70,30,50,90,1]\n",
        "    ]\n",
        "#defining a 5x5 matrix with all zero\n",
        "sum=[[0,0,0,0,0],\n",
        "     [0,0,0,0,0],\n",
        "     [0,0,0,0,0],\n",
        "     [0,0,0,0,0],\n",
        "     [0,0,0,0,0]]\n",
        "#applying for loop\n",
        "for i in range(len(a)):\n",
        "    for j in range(len(a[0])):\n",
        "#adding corresponding elements from both matrices and storing in the sum matrix\n",
        "        sum[i][j]=a[i][j]+b[i][j]\n",
        "#printing every element of the r matrix\n",
        "for r in sum:\n",
        "  print(r)"
      ],
      "metadata": {
        "colab": {
          "base_uri": "https://localhost:8080/"
        },
        "id": "hJUZdX0uGsMR",
        "outputId": "54dd11f5-d0b7-48ec-cc52-cd50726051d1"
      },
      "execution_count": 4,
      "outputs": [
        {
          "output_type": "stream",
          "name": "stdout",
          "text": [
            "[99, 88, 77, 66, 55]\n",
            "[4, 0, 55, 2, 77]\n",
            "[2, 77, 99, 44, 33]\n",
            "[99, 44, 66, 4, 2]\n",
            "[77, 33, 55, 99, 2]\n"
          ]
        }
      ]
    },
    {
      "cell_type": "code",
      "source": [
        "#8\n",
        "#defining matrix A\n",
        "a= [\n",
        "    [9,8,7,6,5],\n",
        "    [2,0,5,1,7],\n",
        "    [1,7,9,4,3],\n",
        "    [9,4,6,2,1],\n",
        "    [7,3,5,9,1]\n",
        "]\n",
        "#defining matrix B\n",
        "b=[\n",
        "    [90,80,70,60,50],\n",
        "    [2,0,50,1,70],\n",
        "    [1,70,90,40,30],\n",
        "    [90,40,60,2,1],\n",
        "    [70,30,50,90,1]\n",
        "    ]\n",
        "#defining a 5x5 matrix with all zero\n",
        "sub=[[0,0,0,0,0],\n",
        "     [0,0,0,0,0],\n",
        "     [0,0,0,0,0],\n",
        "     [0,0,0,0,0],\n",
        "     [0,0,0,0,0]]\n",
        "#applying for loop\n",
        "for i in range(len(a)):\n",
        "    for j in range(len(a[0])):\n",
        "#substarcting corresponding elements from both matrices and storing in the sub matrix\n",
        "        sub[i][j]=a[i][j]-b[i][j]\n",
        "#printing every element of the r matrix\n",
        "for r in sub:\n",
        "  print(r)"
      ],
      "metadata": {
        "colab": {
          "base_uri": "https://localhost:8080/"
        },
        "id": "kcYPlFS7Gv4l",
        "outputId": "7b6fa86c-d4de-4392-e168-56befdf430b9"
      },
      "execution_count": 6,
      "outputs": [
        {
          "output_type": "stream",
          "name": "stdout",
          "text": [
            "[-81, -72, -63, -54, -45]\n",
            "[0, 0, -45, 0, -63]\n",
            "[0, -63, -81, -36, -27]\n",
            "[-81, -36, -54, 0, 0]\n",
            "[-63, -27, -45, -81, 0]\n"
          ]
        }
      ]
    },
    {
      "cell_type": "code",
      "source": [
        "#9\n",
        "#defining matrix A\n",
        "a= [\n",
        "    [9,8,7,6,5],\n",
        "    [2,0,5,1,7],\n",
        "    [1,7,9,4,3],\n",
        "    [9,4,6,2,1],\n",
        "    [7,3,5,9,1]\n",
        "]\n",
        "#defining matrix B\n",
        "b=[\n",
        "    [90,80,70,60,50],\n",
        "    [2,0,50,1,70],\n",
        "    [1,70,90,40,30],\n",
        "    [90,40,60,2,1],\n",
        "    [70,30,50,90,1]\n",
        "    ]\n",
        "#defining a 5x5 matrix with all zero\n",
        "multi=[[0,0,0,0,0],\n",
        "       [0,0,0,0,0],\n",
        "       [0,0,0,0,0],\n",
        "       [0,0,0,0,0],\n",
        "       [0,0,0,0,0]]\n",
        "#applying for loop\n",
        "for i in range(len(a)):\n",
        "    for j in range(len(a[0])):\n",
        "#multiplying corresponding elements from both matrices and storing in the multi matrix\n",
        "        multi[i][j]=a[i][j]*b[i][j]\n",
        "#printing every element of the multi matrix\n",
        "for r in multi:\n",
        "  print(r)"
      ],
      "metadata": {
        "colab": {
          "base_uri": "https://localhost:8080/"
        },
        "id": "zIRaSaoeG4YR",
        "outputId": "b7b00309-3816-4cc5-dbfc-a952d204847b"
      },
      "execution_count": 7,
      "outputs": [
        {
          "output_type": "stream",
          "name": "stdout",
          "text": [
            "[810, 640, 490, 360, 250]\n",
            "[4, 0, 250, 1, 490]\n",
            "[1, 490, 810, 160, 90]\n",
            "[810, 160, 360, 4, 1]\n",
            "[490, 90, 250, 810, 1]\n"
          ]
        }
      ]
    },
    {
      "cell_type": "code",
      "source": [
        "#9\n",
        "#defining matrix A\n",
        "a= [\n",
        "    [9,8,7,6,5],\n",
        "    [2,0,5,1,7],\n",
        "    [1,7,9,4,3],\n",
        "    [9,4,6,2,1],\n",
        "    [7,3,5,9,1]\n",
        "]\n",
        "#defining matrix B\n",
        "b=[\n",
        "    [90,80,70,60,50],\n",
        "    [2,0,50,1,70],\n",
        "    [1,70,90,40,30],\n",
        "    [90,40,60,2,1],\n",
        "    [70,30,50,90,1]\n",
        "    ]\n",
        "#defining a 5x5 matrix with all zero\n",
        "result=[[0,0,0,0,0],\n",
        "         [0,0,0,0,0],\n",
        "         [0,0,0,0,0],\n",
        "         [0,0,0,0,0],\n",
        "         [0,0,0,0,0]]\n",
        "#applying for loop\n",
        "for i in range(len(a)):\n",
        "    for j in range(len(b[0])):\n",
        "        for k in range(len(b)):\n",
        "#performing matrix multiplication\n",
        "            result[i][j]+=a[i][k]*b[k][j]\n",
        "#printing every element from the result\n",
        "for row in result:\n",
        "    print(row)"
      ],
      "metadata": {
        "colab": {
          "base_uri": "https://localhost:8080/"
        },
        "id": "tf1BkACDG9il",
        "outputId": "67e255b0-ae4e-4021-c5fb-9157e072ead0"
      },
      "execution_count": 8,
      "outputs": [
        {
          "output_type": "stream",
          "name": "stdout",
          "text": [
            "[1723, 1600, 2270, 1290, 1231]\n",
            "[765, 760, 1000, 952, 258]\n",
            "[683, 960, 1620, 705, 817]\n",
            "[1074, 1250, 1540, 878, 913]\n",
            "[1521, 1300, 1680, 731, 720]\n"
          ]
        }
      ]
    },
    {
      "cell_type": "code",
      "source": [
        "#10\n",
        "#importing all the required libraries\n",
        "import numpy as np\n",
        "a = np.array([[9,8,7,6,5],\n",
        "    [2,0,5,1,7],\n",
        "    [1,7,9,4,3],\n",
        "    [9,4,6,2,1],\n",
        "    [7,3,5,9,1]])\n",
        "# Divide every element of the matrix by 18\n",
        "result = a / 18\n",
        "# Print the result\n",
        "print(result)"
      ],
      "metadata": {
        "colab": {
          "base_uri": "https://localhost:8080/"
        },
        "id": "Vj-CDaLdHC-h",
        "outputId": "2b8dd34b-da76-4f31-b986-2b40641d4fc0"
      },
      "execution_count": 9,
      "outputs": [
        {
          "output_type": "stream",
          "name": "stdout",
          "text": [
            "[[0.5        0.44444444 0.38888889 0.33333333 0.27777778]\n",
            " [0.11111111 0.         0.27777778 0.05555556 0.38888889]\n",
            " [0.05555556 0.38888889 0.5        0.22222222 0.16666667]\n",
            " [0.5        0.22222222 0.33333333 0.11111111 0.05555556]\n",
            " [0.38888889 0.16666667 0.27777778 0.5        0.05555556]]\n"
          ]
        }
      ]
    },
    {
      "cell_type": "code",
      "source": [
        "#11\n",
        "#importing the required library\n",
        "#using linalg means linear algebra\n",
        "import numpy as np\n",
        "#calculating rank of the matrix\n",
        "np.linalg.matrix_rank(a)\n",
        "#calculating inverse of the matrix\n",
        "np.linalg.inv(a)\n",
        "#calculating the condition number\n",
        "np.linalg.cond(a)\n",
        "#calculating the single value decomposition\n",
        "np.linalg.svd(a)\n",
        "#calculating the norm\n",
        "np.linalg.norm(a)"
      ],
      "metadata": {
        "colab": {
          "base_uri": "https://localhost:8080/"
        },
        "id": "hVknvVzvHE_3",
        "outputId": "f9223a9c-31ba-41d0-dfd5-ae1c70690a88"
      },
      "execution_count": 10,
      "outputs": [
        {
          "output_type": "execute_result",
          "data": {
            "text/plain": [
              "28.160255680657446"
            ]
          },
          "metadata": {},
          "execution_count": 10
        }
      ]
    },
    {
      "cell_type": "code",
      "source": [
        "#11\n",
        "#importing the required library\n",
        "#using linalg means linear algebra\n",
        "import numpy as np\n",
        "#calculating rank of the matrix\n",
        "np.linalg.matrix_rank(b)\n",
        "#calculating inverse of the matrix\n",
        "np.linalg.inv(b)\n",
        "#calculating the condition number\n",
        "np.linalg.cond(b)\n",
        "#calculating the single value decomposition\n",
        "np.linalg.svd(b)\n",
        "#calculating the norm\n",
        "np.linalg.norm(b)"
      ],
      "metadata": {
        "colab": {
          "base_uri": "https://localhost:8080/"
        },
        "id": "8sKjHtkPHK2-",
        "outputId": "43d5312a-a9b8-4523-9575-4aa2bc997a9a"
      },
      "execution_count": 11,
      "outputs": [
        {
          "output_type": "execute_result",
          "data": {
            "text/plain": [
              "279.48524111301475"
            ]
          },
          "metadata": {},
          "execution_count": 11
        }
      ]
    },
    {
      "cell_type": "code",
      "source": [
        "#12\n",
        "#importing the required library\n",
        "import numpy as np\n",
        "# Define the column vector\n",
        "a=np.array([\n",
        "    [5],\n",
        "    [9],\n",
        "    [11]\n",
        "])\n",
        "#calculating the norm\n",
        "norm = np.linalg.norm(a)\n",
        "print(\" norm of the column vector:\",norm)"
      ],
      "metadata": {
        "colab": {
          "base_uri": "https://localhost:8080/"
        },
        "id": "o1aSsGaMHNRW",
        "outputId": "bfb860ab-ea68-4a29-9f7e-a2e4dab16712"
      },
      "execution_count": 12,
      "outputs": [
        {
          "output_type": "stream",
          "name": "stdout",
          "text": [
            " norm of the column vector: 15.066519173319364\n"
          ]
        }
      ]
    },
    {
      "cell_type": "code",
      "source": [
        "#12\n",
        "#importing the required library\n",
        "import numpy as np\n",
        "# Define the column vectors\n",
        "a=np.array([\n",
        "    [5],\n",
        "    [9],\n",
        "    [11]\n",
        "])\n",
        "b=np.array([\n",
        "    [6],\n",
        "    [9],\n",
        "    [12]\n",
        "])\n",
        "#getting inner product of the vector\n",
        "i_product = np.dot(a.T,b)\n",
        "print(\"inner product:\",i_product)"
      ],
      "metadata": {
        "colab": {
          "base_uri": "https://localhost:8080/"
        },
        "id": "rJaZOCw_HXPn",
        "outputId": "7d5ebfed-a7b3-471c-f59e-7c51da8f6b2d"
      },
      "execution_count": 13,
      "outputs": [
        {
          "output_type": "stream",
          "name": "stdout",
          "text": [
            "inner product: [[243]]\n"
          ]
        }
      ]
    },
    {
      "cell_type": "code",
      "source": [
        "#12\n",
        "#importing the required libraries\n",
        "import numpy as np\n",
        "# Define the column vectors\n",
        "a=np.array([\n",
        "    [5],\n",
        "    [9],\n",
        "    [11]\n",
        "])\n",
        "b=np.array([\n",
        "    [6],\n",
        "    [9],\n",
        "    [12]\n",
        "])\n",
        "#getting outer product of the vectors\n",
        "o_product = np.outer(a,b.T)\n",
        "print(\"outer product:\\n\",o_product)"
      ],
      "metadata": {
        "colab": {
          "base_uri": "https://localhost:8080/"
        },
        "id": "B7RWqDlsHcMA",
        "outputId": "919d0bc1-4995-4747-c49c-78229b1b12e8"
      },
      "execution_count": 14,
      "outputs": [
        {
          "output_type": "stream",
          "name": "stdout",
          "text": [
            "outer product:\n",
            " [[ 30  45  60]\n",
            " [ 54  81 108]\n",
            " [ 66  99 132]]\n"
          ]
        }
      ]
    },
    {
      "cell_type": "code",
      "source": [
        "#13\n",
        "#importing the required library\n",
        "import math\n",
        "#defining the function derivative\n",
        "def derivative(f,a,method='central',h=0.01):\n",
        "#applying if loop and giving the conditions\n",
        "    if method == 'forward':\n",
        "        return (f(a+h)-f(a))/h\n",
        "#applying the elif conditions\n",
        "    elif method == 'backward':\n",
        "        return (f(a)-f(a-h))/h\n",
        "#applying the elif conditions\n",
        "    elif method == 'central':\n",
        "        return (f(a+h)-f(a-h))/(2*h)\n",
        "#applying the else and giving conditions\n",
        "    else:\n",
        "        raise ValueError(\"Invalid method. Use 'forward', 'backward', or 'central'.\")\n",
        "# Test the function on exp(x) and cos(x) at x = 0.5\n",
        "x = 0.5\n",
        "exp = derivative(math.exp, x)\n",
        "cos = derivative(math.cos, x)\n",
        "\n",
        "print(\"Derivative of exp(x)\", x, \":\",exp)\n",
        "print(\"Derivative of cos(x)\", x, \":\",cos)"
      ],
      "metadata": {
        "colab": {
          "base_uri": "https://localhost:8080/"
        },
        "id": "dWbSRr2QHg_p",
        "outputId": "297774ba-fe97-4242-cbef-3502685b5865"
      },
      "execution_count": 43,
      "outputs": [
        {
          "output_type": "stream",
          "name": "stdout",
          "text": [
            "Derivative of exp(x) 0.5 : 1.648748749525375\n",
            "Derivative of cos(x) 0.5 : -0.4794175482185081\n"
          ]
        }
      ]
    },
    {
      "cell_type": "code",
      "source": [
        "#14\n",
        "#importing the required library\n",
        "import pandas as pdp\n",
        "#reading the csv file and copying the path of the required csv file\n",
        "df=pd.read_csv(\"/surface_data.csv\")\n",
        "#printing the data frame\n",
        "print(df)"
      ],
      "metadata": {
        "colab": {
          "base_uri": "https://localhost:8080/"
        },
        "id": "HojfW-N5J73w",
        "outputId": "7f3e5bb8-f619-40a4-c9d3-858307704176"
      },
      "execution_count": 57,
      "outputs": [
        {
          "output_type": "stream",
          "name": "stdout",
          "text": [
            "         obstime     tempr        ap      ws       wd       rh\n",
            "0     1985-02-26  -10.0000  983.0250  16.125   11.750   64.875\n",
            "1     1985-02-27  -12.6250  981.5750   5.875   29.250   58.625\n",
            "2     1985-02-28  -17.1875  983.7750   3.000   99.000   55.125\n",
            "3     1985-03-01 -507.6250  986.3375  19.125 -493.625 -999.000\n",
            "4     1985-03-02 -257.3125  497.7500  33.875 -243.000 -224.125\n",
            "...          ...       ...       ...     ...      ...      ...\n",
            "9380  2010-12-27   -0.1125  996.9375   5.625   15.750 -999.000\n",
            "9381  2010-12-28   -0.7000  994.6750  19.250    9.750 -999.000\n",
            "9382  2010-12-29    0.6375  994.2875  22.250   10.250 -999.000\n",
            "9383  2010-12-30    1.4375  992.5125  14.500   10.250 -999.000\n",
            "9384  2010-12-31    0.9500  989.2000  16.500   11.500 -999.000\n",
            "\n",
            "[9385 rows x 6 columns]\n"
          ]
        }
      ]
    }
  ]
}