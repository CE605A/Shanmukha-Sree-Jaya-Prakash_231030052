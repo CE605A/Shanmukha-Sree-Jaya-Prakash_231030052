{
  "nbformat": 4,
  "nbformat_minor": 0,
  "metadata": {
    "colab": {
      "provenance": [],
      "include_colab_link": true
    },
    "kernelspec": {
      "name": "python3",
      "display_name": "Python 3"
    },
    "language_info": {
      "name": "python"
    }
  },
  "cells": [
    {
      "cell_type": "markdown",
      "metadata": {
        "id": "view-in-github",
        "colab_type": "text"
      },
      "source": [
        "<a href=\"https://colab.research.google.com/github/CE605A/Shanmukha-Sree-Jaya-Prakash_231030052/blob/main/jp231030052.ipynb\" target=\"_parent\"><img src=\"https://colab.research.google.com/assets/colab-badge.svg\" alt=\"Open In Colab\"/></a>"
      ]
    },
    {
      "cell_type": "code",
      "execution_count": 19,
      "metadata": {
        "id": "j--wEfH6SJas",
        "colab": {
          "base_uri": "https://localhost:8080/"
        },
        "outputId": "969832ff-9bea-40e7-8490-b09988cd36da"
      },
      "outputs": [
        {
          "output_type": "stream",
          "name": "stdout",
          "text": [
            "values in row vector:\n",
            " [ 5  9 11]\n",
            "values in column vector:\n",
            " [[ 6]\n",
            " [ 9]\n",
            " [12]]\n"
          ]
        }
      ],
      "source": [
        "#1\n",
        "#importing required library\n",
        "import numpy as np\n",
        "#entering the values into the row vector manually\n",
        "a=np.array([5, 9, 11])\n",
        "b=np.array([[6],\n",
        "            [9],\n",
        "            [12]])\n",
        "print(\"values in row vector:\\n\",a)\n",
        "print(\"values in column vector:\\n\",b)"
      ]
    },
    {
      "cell_type": "code",
      "source": [],
      "metadata": {
        "id": "L4j_yOFcAUVA"
      },
      "execution_count": null,
      "outputs": []
    }
  ]
}