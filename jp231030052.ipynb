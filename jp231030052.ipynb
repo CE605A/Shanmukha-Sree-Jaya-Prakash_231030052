{
  "nbformat": 4,
  "nbformat_minor": 0,
  "metadata": {
    "colab": {
      "provenance": []
    },
    "kernelspec": {
      "name": "python3",
      "display_name": "Python 3"
    },
    "language_info": {
      "name": "python"
    }
  },
  "cells": [
    {
      "cell_type": "code",
      "execution_count": 23,
      "metadata": {
        "id": "j--wEfH6SJas",
        "colab": {
          "base_uri": "https://localhost:8080/"
        },
        "outputId": "fbf4f1bc-e4b7-4b9e-beb9-5e41a189d0e4"
      },
      "outputs": [
        {
          "output_type": "stream",
          "name": "stdout",
          "text": [
            "values in row vector:\n",
            " [ 5  9 11]\n",
            "values in column vector:\n",
            " [[ 6]\n",
            " [ 9]\n",
            " [12]]\n"
          ]
        }
      ],
      "source": [
        "#1\n",
        "#importing required library\n",
        "import numpy as np\n",
        "#entering the values into the row vector and column vector manually\n",
        "a=np.array([5, 9, 11])\n",
        "b=np.array([[6],\n",
        "            [9],\n",
        "            [12]])\n",
        "print(\"values in row vector:\\n\",a)\n",
        "print(\"values in column vector:\\n\",b)"
      ]
    },
    {
      "cell_type": "code",
      "source": [
        "#1\n",
        "#taking no of rows required from the user\n",
        "i=int(input(\"number of rows:  \"))\n",
        "#defining a empty list\n",
        "l=[]\n",
        "for x in range(i):\n",
        "#taking input from the user using input() method\n",
        "    v=input()\n",
        "#adding the values into the empty list\n",
        "    l.append(v)\n",
        "#printing the row matrix\n",
        "print(l)\n"
      ],
      "metadata": {
        "colab": {
          "base_uri": "https://localhost:8080/"
        },
        "id": "L4j_yOFcAUVA",
        "outputId": "3d5c8079-eabb-46ae-d5dd-48d7d43a8b7f"
      },
      "execution_count": 26,
      "outputs": [
        {
          "output_type": "stream",
          "name": "stdout",
          "text": [
            "number of rows:  3\n",
            "3\n",
            "1 2\n",
            "3\n",
            "['3', '1 2', '3']\n"
          ]
        }
      ]
    },
    {
      "cell_type": "code",
      "source": [
        "#1\n",
        "#taking  number of columns required from the user\n",
        "i=int(input(\"number of columns: \"))\n",
        "#defining empty vector\n",
        "l= []\n",
        "for x in range(i):\n",
        "#taking input from the user using input() method\n",
        "    v=input()\n",
        "#adding the values into empty vector\n",
        "    l.append(v)\n",
        "#printing the each element in the column vector\n",
        "for e in l:\n",
        "    print(e)"
      ],
      "metadata": {
        "id": "k_ywf1aEDetO",
        "outputId": "9dd0dcbd-8696-44f7-e234-b7bfe316bf31",
        "colab": {
          "base_uri": "https://localhost:8080/"
        }
      },
      "execution_count": 27,
      "outputs": [
        {
          "output_type": "stream",
          "name": "stdout",
          "text": [
            "number of columns: 2\n",
            "1 2\n",
            "1 2\n",
            "1 2\n",
            "1 2\n"
          ]
        }
      ]
    },
    {
      "cell_type": "code",
      "source": [
        "#2\n",
        "#IMPORTING THE REQUIRED LIBRARIES\n",
        "import numpy as np\n",
        "#input for number of rows\n",
        "i=int(input(\"enter number of rows:  \"))\n",
        "#input for number of columns\n",
        "j=int(input(\"enter number of columns:  \"))\n",
        "#empty list for required matrix\n",
        "y=[]\n",
        "#for loop for row values\n",
        "for x in range(i):\n",
        "#empty list to append the column values\n",
        "  c=[]\n",
        "#for loop for column values\n",
        "  for x in range(j):\n",
        "#input for the values in the matrix\n",
        "    v=input()\n",
        "#adding the values into the empty list\n",
        "    c.append(v)\n",
        "#adding all the columns into the empty list y\n",
        "  y.append(c)\n",
        "#changing the list into a matrix form\n",
        "a=np.matrix(y)\n",
        "print(a)"
      ],
      "metadata": {
        "id": "KOdNTFl3B2_P",
        "outputId": "2d806096-dd48-4214-e074-873b4f86a06b",
        "colab": {
          "base_uri": "https://localhost:8080/",
          "height": 529
        }
      },
      "execution_count": 29,
      "outputs": [
        {
          "name": "stdout",
          "output_type": "stream",
          "text": [
            "enter number of rows:  5\n",
            "enter number of columns:  5\n",
            "1 2 3 4 5\n",
            "1 1 1 1 1\n",
            "1 1 1 1 1\n",
            "1 1 1 1 1\n",
            "1 1 1 1 1\n",
            "1 1 1 1 1\n"
          ]
        },
        {
          "output_type": "error",
          "ename": "KeyboardInterrupt",
          "evalue": "ignored",
          "traceback": [
            "\u001b[0;31m---------------------------------------------------------------------------\u001b[0m",
            "\u001b[0;31mKeyboardInterrupt\u001b[0m                         Traceback (most recent call last)",
            "\u001b[0;32m<ipython-input-29-7cab06013cde>\u001b[0m in \u001b[0;36m<cell line: 11>\u001b[0;34m()\u001b[0m\n\u001b[1;32m     15\u001b[0m   \u001b[0;32mfor\u001b[0m \u001b[0mx\u001b[0m \u001b[0;32min\u001b[0m \u001b[0mrange\u001b[0m\u001b[0;34m(\u001b[0m\u001b[0mj\u001b[0m\u001b[0;34m)\u001b[0m\u001b[0;34m:\u001b[0m\u001b[0;34m\u001b[0m\u001b[0;34m\u001b[0m\u001b[0m\n\u001b[1;32m     16\u001b[0m \u001b[0;31m#input for the values in the matrix\u001b[0m\u001b[0;34m\u001b[0m\u001b[0;34m\u001b[0m\u001b[0m\n\u001b[0;32m---> 17\u001b[0;31m     \u001b[0mv\u001b[0m\u001b[0;34m=\u001b[0m\u001b[0minput\u001b[0m\u001b[0;34m(\u001b[0m\u001b[0;34m)\u001b[0m\u001b[0;34m\u001b[0m\u001b[0;34m\u001b[0m\u001b[0m\n\u001b[0m\u001b[1;32m     18\u001b[0m \u001b[0;31m#adding the values into the empty list\u001b[0m\u001b[0;34m\u001b[0m\u001b[0;34m\u001b[0m\u001b[0m\n\u001b[1;32m     19\u001b[0m     \u001b[0mc\u001b[0m\u001b[0;34m.\u001b[0m\u001b[0mappend\u001b[0m\u001b[0;34m(\u001b[0m\u001b[0mv\u001b[0m\u001b[0;34m)\u001b[0m\u001b[0;34m\u001b[0m\u001b[0;34m\u001b[0m\u001b[0m\n",
            "\u001b[0;32m/usr/local/lib/python3.10/dist-packages/ipykernel/kernelbase.py\u001b[0m in \u001b[0;36mraw_input\u001b[0;34m(self, prompt)\u001b[0m\n\u001b[1;32m    849\u001b[0m                 \u001b[0;34m\"raw_input was called, but this frontend does not support input requests.\"\u001b[0m\u001b[0;34m\u001b[0m\u001b[0;34m\u001b[0m\u001b[0m\n\u001b[1;32m    850\u001b[0m             )\n\u001b[0;32m--> 851\u001b[0;31m         return self._input_request(str(prompt),\n\u001b[0m\u001b[1;32m    852\u001b[0m             \u001b[0mself\u001b[0m\u001b[0;34m.\u001b[0m\u001b[0m_parent_ident\u001b[0m\u001b[0;34m,\u001b[0m\u001b[0;34m\u001b[0m\u001b[0;34m\u001b[0m\u001b[0m\n\u001b[1;32m    853\u001b[0m             \u001b[0mself\u001b[0m\u001b[0;34m.\u001b[0m\u001b[0m_parent_header\u001b[0m\u001b[0;34m,\u001b[0m\u001b[0;34m\u001b[0m\u001b[0;34m\u001b[0m\u001b[0m\n",
            "\u001b[0;32m/usr/local/lib/python3.10/dist-packages/ipykernel/kernelbase.py\u001b[0m in \u001b[0;36m_input_request\u001b[0;34m(self, prompt, ident, parent, password)\u001b[0m\n\u001b[1;32m    893\u001b[0m             \u001b[0;32mexcept\u001b[0m \u001b[0mKeyboardInterrupt\u001b[0m\u001b[0;34m:\u001b[0m\u001b[0;34m\u001b[0m\u001b[0;34m\u001b[0m\u001b[0m\n\u001b[1;32m    894\u001b[0m                 \u001b[0;31m# re-raise KeyboardInterrupt, to truncate traceback\u001b[0m\u001b[0;34m\u001b[0m\u001b[0;34m\u001b[0m\u001b[0m\n\u001b[0;32m--> 895\u001b[0;31m                 \u001b[0;32mraise\u001b[0m \u001b[0mKeyboardInterrupt\u001b[0m\u001b[0;34m(\u001b[0m\u001b[0;34m\"Interrupted by user\"\u001b[0m\u001b[0;34m)\u001b[0m \u001b[0;32mfrom\u001b[0m \u001b[0;32mNone\u001b[0m\u001b[0;34m\u001b[0m\u001b[0;34m\u001b[0m\u001b[0m\n\u001b[0m\u001b[1;32m    896\u001b[0m             \u001b[0;32mexcept\u001b[0m \u001b[0mException\u001b[0m \u001b[0;32mas\u001b[0m \u001b[0me\u001b[0m\u001b[0;34m:\u001b[0m\u001b[0;34m\u001b[0m\u001b[0;34m\u001b[0m\u001b[0m\n\u001b[1;32m    897\u001b[0m                 \u001b[0mself\u001b[0m\u001b[0;34m.\u001b[0m\u001b[0mlog\u001b[0m\u001b[0;34m.\u001b[0m\u001b[0mwarning\u001b[0m\u001b[0;34m(\u001b[0m\u001b[0;34m\"Invalid Message:\"\u001b[0m\u001b[0;34m,\u001b[0m \u001b[0mexc_info\u001b[0m\u001b[0;34m=\u001b[0m\u001b[0;32mTrue\u001b[0m\u001b[0;34m)\u001b[0m\u001b[0;34m\u001b[0m\u001b[0;34m\u001b[0m\u001b[0m\n",
            "\u001b[0;31mKeyboardInterrupt\u001b[0m: Interrupted by user"
          ]
        }
      ]
    },
    {
      "cell_type": "code",
      "source": [],
      "metadata": {
        "id": "Ihm6h4Y1FS7x"
      },
      "execution_count": null,
      "outputs": []
    },
    {
      "cell_type": "code",
      "source": [
        "#2\n",
        "#importing  the required library\n",
        "import numpy as np\n",
        "#entering the matrix values manually\n",
        "a=np.matrix('[1,2,3,4,5;2,4,6,7,9;8,9,5,7,7;2,6,9,0,4;3,7,2,8,1]')\n",
        "#printing matrix a\n",
        "print(a)\n",
        "#3\n",
        "#printing 3rd row from the matrix\n",
        "print(a[2])\n",
        "#4\n",
        "#printing 4th column from the matrix\n",
        "print(a[:,3])\n",
        "#5\n",
        "#sorting the matrix\n",
        "a.sort()\n",
        "print(a)"
      ],
      "metadata": {
        "id": "FK0dQpiMFh6Q",
        "outputId": "f487ddeb-bac4-4348-ea87-0a299b687847",
        "colab": {
          "base_uri": "https://localhost:8080/"
        }
      },
      "execution_count": 30,
      "outputs": [
        {
          "output_type": "stream",
          "name": "stdout",
          "text": [
            "[[1 2 3 4 5]\n",
            " [2 4 6 7 9]\n",
            " [8 9 5 7 7]\n",
            " [2 6 9 0 4]\n",
            " [3 7 2 8 1]]\n",
            "[[8 9 5 7 7]]\n",
            "[[4]\n",
            " [7]\n",
            " [7]\n",
            " [0]\n",
            " [8]]\n",
            "[[1 2 3 4 5]\n",
            " [2 4 6 7 9]\n",
            " [5 7 7 8 9]\n",
            " [0 2 4 6 9]\n",
            " [1 2 3 7 8]]\n"
          ]
        }
      ]
    }
  ]
}