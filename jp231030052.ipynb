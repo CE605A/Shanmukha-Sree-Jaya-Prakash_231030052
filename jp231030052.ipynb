{
  "nbformat": 4,
  "nbformat_minor": 0,
  "metadata": {
    "colab": {
      "provenance": []
    },
    "kernelspec": {
      "name": "python3",
      "display_name": "Python 3"
    },
    "language_info": {
      "name": "python"
    }
  },
  "cells": [
    {
      "cell_type": "code",
      "execution_count": 4,
      "metadata": {
        "id": "j--wEfH6SJas",
        "colab": {
          "base_uri": "https://localhost:8080/"
        },
        "outputId": "6eb2ad46-19d7-4f55-d6c3-cb87d734069a"
      },
      "outputs": [
        {
          "output_type": "stream",
          "name": "stdout",
          "text": [
            "Enter value 1 for row: 8\n",
            "Enter value 2 for row: 9\n",
            "Enter value 3 for row: 1\n",
            "Enter the value 1 for column: 3\n",
            "Enter the value 2 for column: 4\n",
            "Enter the value 3 for column: 5\n",
            "row = [8.0, 9.0, 1.0]\n",
            "column = [3.0, 4.0, 5.0]\n"
          ]
        }
      ],
      "source": [
        "#create row and column vector using input method\n",
        "row=[]\n",
        "for i in range(3):\n",
        "  value=float(input(f\"Enter value {i+1} for row: \"))\n",
        "  row.append(value)\n",
        "#create column vector using input method\n",
        "column=[]\n",
        "for j in range(3):\n",
        "  value=float(input(f\"Enter the value {j+1} for column: \"))\n",
        "  column.append(value)\n",
        "print(\"row =\",row)\n",
        "print(\"column =\",column)\n"
      ]
    }
  ]
}